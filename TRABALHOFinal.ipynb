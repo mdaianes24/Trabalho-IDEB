{
  "nbformat": 4,
  "nbformat_minor": 0,
  "metadata": {
    "colab": {
      "name": "TRABALHOFinal.ipynb",
      "provenance": [],
      "collapsed_sections": [],
      "toc_visible": true,
      "mount_file_id": "1WPAPzyTlKU2XXCH7fx0xC-ExPQSKG8X5",
      "authorship_tag": "ABX9TyMuqwkTNPNBURUtBzJqX+Fl",
      "include_colab_link": true
    },
    "kernelspec": {
      "name": "python3",
      "display_name": "Python 3"
    }
  },
  "cells": [
    {
      "cell_type": "markdown",
      "metadata": {
        "id": "view-in-github",
        "colab_type": "text"
      },
      "source": [
        "<a href=\"https://colab.research.google.com/github/mdaianes24/Trabalho-IDEB/blob/main/TRABALHOFinal.ipynb\" target=\"_parent\"><img src=\"https://colab.research.google.com/assets/colab-badge.svg\" alt=\"Open In Colab\"/></a>"
      ]
    },
    {
      "cell_type": "markdown",
      "metadata": {
        "id": "ti_wk6S9L0ZA"
      },
      "source": [
        "# Educação de Qualidade no Rio Grande do Norte\n",
        "Conforme o IDEB"
      ]
    },
    {
      "cell_type": "markdown",
      "metadata": {
        "id": "an7aQdSWRDs8"
      },
      "source": [
        "#1 Introdução"
      ]
    },
    {
      "cell_type": "markdown",
      "metadata": {
        "id": "oGiYw669WtFs"
      },
      "source": [
        "Diante dos  17 Objetivos de Desenvolvimento Sustentável  da Organização das Nações Unidas (ONU), o escolhido na elaboração desse trabalho foi o 4º Educação de qualidade: \"Garantir o acesso à educação inclusiva, de qualidade e equitativa, e promover oportunidades de aprendizagem ao longo da vida para todos.\" (ONU, https://brasil.un.org/pt-br/sdgs/4)\n",
        "\n",
        "Como base utilizada para medir a qualidade da educação brasileira existe o IDEB (Índice de Desenvolvimento da Educação Básica): \"O índice é um importante condutor de política pública em prol da qualidade da educação, que varia de 0 a 10. É a ferramenta para acompanhamento das metas de qualidade para a educação básica, que tem estabelecido, como meta para 2022, alcançar média 6– valor que corresponde a um sistema educacional de qualidade comparável ao dos países desenvolvidos, essas metas são diferenciadas para cada escola e rede de ensino.\"(INEP)\n",
        "\n",
        "Criado em 2007 pelo Instituto Nacional de Estudos e Pesquisas Educacionais Anísio Teixeira (Inep), reúne em um só indicador, os resultados de dois conceitos  importantes para a qualidade da educação: o fluxo escolar e as médias de desempenho nas avaliações. \n",
        "\n",
        "O Ideb é calculado a partir dos dados sobre aprovação escolar, obtidos no Censo Escolar, e das médias de desempenho no Sistema de Avaliação da Educação Básica (Saeb).\n",
        "\n",
        "A combinação entre fluxo e aprendizagem tem o mérito de equilibrar as duas dimensões: se um sistema de ensino retiver seus alunos para obter resultados de melhor qualidade no Saeb, o fator fluxo será alterado, indicando a necessidade de melhoria do sistema. Se, ao contrário, o sistema apressar a aprovação do aluno sem qualidade, o resultado das avaliações indicará igualmente a necessidade de melhoria do sistema.\n",
        "\n",
        "Diante desse contexto do IDEB no Brasil, a presente pesquisa tem como problemática: As escolas públicas dos municípios do Rio Grande do Norte estão conseguindo atingir as projeções estabelecidas do IDEB, no ano de 2019? Em consequência ao objetivo da ONU, onde deve-se garantir uma educação de qualidade, inclusiva e equitativa. Serão utilizados os dados abertos da educação brasileira disponíveis no site do Inep.\n",
        "\n",
        "\n",
        "> _\n",
        "**FONTES:**\n",
        "\n",
        "MINISTÉRIO DA EDUCAÇÃO. Conheça o Ideb. Disponível em: < http://portal.mec.gov.br/conheca-o-ideb >. Acesso em: 12/10/2020.\n",
        "\n",
        "INSTITUTO NACIONAL DE ESTUDOS E PESQUISAS EDUCACIONAIS ANISIO TEIXEIRA. Apresentação do IDEB. Disponível em: < http://portal.inep.gov.br/ideb >. Acesso em: 12/10/2020.\n",
        "\n"
      ]
    },
    {
      "cell_type": "markdown",
      "metadata": {
        "id": "bfHzsv0pBOJd"
      },
      "source": [
        "# 1.1 Fonte dos dados\n",
        "\n",
        "INSTITUTO NACIONAL DE ESTUDOS E PESQUISAS EDUCACIONAIS ANISIO TEIXEIRA. Resultados IDEB. Disponível em: < http://inep.gov.br/web/guest/dados >. Acesso em: 01/10 /2020 .\n",
        "\n",
        "\n",
        "Os dados disponíveis levavam em consideração aos fatores de cálculo do IDEB, e como o objeto de estudo serão as notas do IDEB e suas projeções e apenas entre os anos de 2009 e 2019, o data set foi formatado e enviado para o GitHub."
      ]
    },
    {
      "cell_type": "markdown",
      "metadata": {
        "id": "4yNhuGlkRUW0"
      },
      "source": [
        "# 2 Aquisição de Dados"
      ]
    },
    {
      "cell_type": "code",
      "metadata": {
        "id": "jgB87NAlpy6P"
      },
      "source": [
        "#Importando a biblioteca Pandas para a visualização e análise do data frame\n",
        "import pandas as pd"
      ],
      "execution_count": 9,
      "outputs": []
    },
    {
      "cell_type": "markdown",
      "metadata": {
        "id": "qnJS6mGt4aN0"
      },
      "source": [
        "Dados da Educação Básica (Anos Iniciais)"
      ]
    },
    {
      "cell_type": "code",
      "metadata": {
        "id": "DT1GpNg7FfgZ",
        "outputId": "c020fdca-4ee7-4f27-a387-a54ae55fb6f6",
        "colab": {
          "base_uri": "https://localhost:8080/",
          "height": 442
        }
      },
      "source": [
        "# Importação do DataFrame disponível no GitHub\n",
        "df_ai = pd.read_csv ('https://raw.githubusercontent.com/mdaianes24/Trabalho-IDEB/main/anos_iniciais.csv', sep=';', encoding='ISO-8859-1')\n",
        "\n",
        "# Aqui serão visualizados os dados: Anos Iniciais - Ensino Fundamental\n",
        "df_ai"
      ],
      "execution_count": 181,
      "outputs": [
        {
          "output_type": "execute_result",
          "data": {
            "text/html": [
              "<div>\n",
              "<style scoped>\n",
              "    .dataframe tbody tr th:only-of-type {\n",
              "        vertical-align: middle;\n",
              "    }\n",
              "\n",
              "    .dataframe tbody tr th {\n",
              "        vertical-align: top;\n",
              "    }\n",
              "\n",
              "    .dataframe thead th {\n",
              "        text-align: right;\n",
              "    }\n",
              "</style>\n",
              "<table border=\"1\" class=\"dataframe\">\n",
              "  <thead>\n",
              "    <tr style=\"text-align: right;\">\n",
              "      <th></th>\n",
              "      <th>MUNICÍPIO</th>\n",
              "      <th>2009</th>\n",
              "      <th>2011</th>\n",
              "      <th>2013</th>\n",
              "      <th>2015</th>\n",
              "      <th>2017</th>\n",
              "      <th>2019</th>\n",
              "      <th>PROJ 2009</th>\n",
              "      <th>PROJ 2011</th>\n",
              "      <th>PROJ 2013</th>\n",
              "      <th>PROJ 2015</th>\n",
              "      <th>PROJ 2017</th>\n",
              "      <th>PROJ 2019</th>\n",
              "    </tr>\n",
              "  </thead>\n",
              "  <tbody>\n",
              "    <tr>\n",
              "      <th>0</th>\n",
              "      <td>Acari</td>\n",
              "      <td>4.8</td>\n",
              "      <td>4.9</td>\n",
              "      <td>5.6</td>\n",
              "      <td>5.9</td>\n",
              "      <td>6.6</td>\n",
              "      <td>6.8</td>\n",
              "      <td>4.8</td>\n",
              "      <td>5.2</td>\n",
              "      <td>5.4</td>\n",
              "      <td>5.7</td>\n",
              "      <td>6.0</td>\n",
              "      <td>6.2</td>\n",
              "    </tr>\n",
              "    <tr>\n",
              "      <th>1</th>\n",
              "      <td>Açu</td>\n",
              "      <td>3.2</td>\n",
              "      <td>3.4</td>\n",
              "      <td>3.5</td>\n",
              "      <td>4.1</td>\n",
              "      <td>4.2</td>\n",
              "      <td>4.5</td>\n",
              "      <td>2.6</td>\n",
              "      <td>3.0</td>\n",
              "      <td>3.3</td>\n",
              "      <td>3.6</td>\n",
              "      <td>3.9</td>\n",
              "      <td>4.2</td>\n",
              "    </tr>\n",
              "    <tr>\n",
              "      <th>2</th>\n",
              "      <td>Afonso Bezerra</td>\n",
              "      <td>2.4</td>\n",
              "      <td>3.5</td>\n",
              "      <td>3.4</td>\n",
              "      <td>3.9</td>\n",
              "      <td>3.9</td>\n",
              "      <td>4.0</td>\n",
              "      <td>2.9</td>\n",
              "      <td>3.3</td>\n",
              "      <td>3.6</td>\n",
              "      <td>3.8</td>\n",
              "      <td>4.1</td>\n",
              "      <td>4.5</td>\n",
              "    </tr>\n",
              "    <tr>\n",
              "      <th>3</th>\n",
              "      <td>Água Nova</td>\n",
              "      <td>3.6</td>\n",
              "      <td>4.4</td>\n",
              "      <td>4.3</td>\n",
              "      <td>5.1</td>\n",
              "      <td>5.0</td>\n",
              "      <td>4.8</td>\n",
              "      <td>3.3</td>\n",
              "      <td>3.7</td>\n",
              "      <td>4.0</td>\n",
              "      <td>4.3</td>\n",
              "      <td>4.6</td>\n",
              "      <td>4.9</td>\n",
              "    </tr>\n",
              "    <tr>\n",
              "      <th>4</th>\n",
              "      <td>Alexandria</td>\n",
              "      <td>3.4</td>\n",
              "      <td>3.7</td>\n",
              "      <td>4.5</td>\n",
              "      <td>NaN</td>\n",
              "      <td>4.5</td>\n",
              "      <td>4.7</td>\n",
              "      <td>2.9</td>\n",
              "      <td>3.3</td>\n",
              "      <td>3.6</td>\n",
              "      <td>3.9</td>\n",
              "      <td>4.2</td>\n",
              "      <td>4.5</td>\n",
              "    </tr>\n",
              "    <tr>\n",
              "      <th>...</th>\n",
              "      <td>...</td>\n",
              "      <td>...</td>\n",
              "      <td>...</td>\n",
              "      <td>...</td>\n",
              "      <td>...</td>\n",
              "      <td>...</td>\n",
              "      <td>...</td>\n",
              "      <td>...</td>\n",
              "      <td>...</td>\n",
              "      <td>...</td>\n",
              "      <td>...</td>\n",
              "      <td>...</td>\n",
              "      <td>...</td>\n",
              "    </tr>\n",
              "    <tr>\n",
              "      <th>162</th>\n",
              "      <td>Várzea</td>\n",
              "      <td>3.2</td>\n",
              "      <td>2.9</td>\n",
              "      <td>2.4</td>\n",
              "      <td>3.6</td>\n",
              "      <td>3.3</td>\n",
              "      <td>3.5</td>\n",
              "      <td>2.5</td>\n",
              "      <td>2.9</td>\n",
              "      <td>3.2</td>\n",
              "      <td>3.5</td>\n",
              "      <td>3.8</td>\n",
              "      <td>4.1</td>\n",
              "    </tr>\n",
              "    <tr>\n",
              "      <th>163</th>\n",
              "      <td>Venha-Ver</td>\n",
              "      <td>3.0</td>\n",
              "      <td>4.1</td>\n",
              "      <td>4.1</td>\n",
              "      <td>4.3</td>\n",
              "      <td>4.3</td>\n",
              "      <td>4.3</td>\n",
              "      <td>2.7</td>\n",
              "      <td>3.1</td>\n",
              "      <td>3.4</td>\n",
              "      <td>3.7</td>\n",
              "      <td>4.0</td>\n",
              "      <td>4.3</td>\n",
              "    </tr>\n",
              "    <tr>\n",
              "      <th>164</th>\n",
              "      <td>Vera Cruz</td>\n",
              "      <td>3.4</td>\n",
              "      <td>3.7</td>\n",
              "      <td>3.6</td>\n",
              "      <td>4.1</td>\n",
              "      <td>3.8</td>\n",
              "      <td>4.1</td>\n",
              "      <td>3.2</td>\n",
              "      <td>3.6</td>\n",
              "      <td>3.9</td>\n",
              "      <td>4.2</td>\n",
              "      <td>4.5</td>\n",
              "      <td>4.8</td>\n",
              "    </tr>\n",
              "    <tr>\n",
              "      <th>165</th>\n",
              "      <td>Viçosa</td>\n",
              "      <td>3.1</td>\n",
              "      <td>4.7</td>\n",
              "      <td>3.8</td>\n",
              "      <td>4.5</td>\n",
              "      <td>4.9</td>\n",
              "      <td>6.1</td>\n",
              "      <td>2.4</td>\n",
              "      <td>2.8</td>\n",
              "      <td>3.1</td>\n",
              "      <td>3.4</td>\n",
              "      <td>3.7</td>\n",
              "      <td>4.0</td>\n",
              "    </tr>\n",
              "    <tr>\n",
              "      <th>166</th>\n",
              "      <td>Vila Flor</td>\n",
              "      <td>2.6</td>\n",
              "      <td>3.1</td>\n",
              "      <td>3.2</td>\n",
              "      <td>3.6</td>\n",
              "      <td>3.8</td>\n",
              "      <td>4.0</td>\n",
              "      <td>2.5</td>\n",
              "      <td>3.0</td>\n",
              "      <td>3.3</td>\n",
              "      <td>3.5</td>\n",
              "      <td>3.8</td>\n",
              "      <td>4.2</td>\n",
              "    </tr>\n",
              "  </tbody>\n",
              "</table>\n",
              "<p>167 rows × 13 columns</p>\n",
              "</div>"
            ],
            "text/plain": [
              "          MUNICÍPIO  2009  2011  ...  PROJ 2015  PROJ 2017  PROJ 2019\n",
              "0             Acari   4.8   4.9  ...        5.7        6.0        6.2\n",
              "1               Açu   3.2   3.4  ...        3.6        3.9        4.2\n",
              "2    Afonso Bezerra   2.4   3.5  ...        3.8        4.1        4.5\n",
              "3         Água Nova   3.6   4.4  ...        4.3        4.6        4.9\n",
              "4        Alexandria   3.4   3.7  ...        3.9        4.2        4.5\n",
              "..              ...   ...   ...  ...        ...        ...        ...\n",
              "162          Várzea   3.2   2.9  ...        3.5        3.8        4.1\n",
              "163       Venha-Ver   3.0   4.1  ...        3.7        4.0        4.3\n",
              "164       Vera Cruz   3.4   3.7  ...        4.2        4.5        4.8\n",
              "165          Viçosa   3.1   4.7  ...        3.4        3.7        4.0\n",
              "166       Vila Flor   2.6   3.1  ...        3.5        3.8        4.2\n",
              "\n",
              "[167 rows x 13 columns]"
            ]
          },
          "metadata": {
            "tags": []
          },
          "execution_count": 181
        }
      ]
    },
    {
      "cell_type": "markdown",
      "metadata": {
        "id": "tgWg6M7FR8uE"
      },
      "source": [
        "Dados da Educação Básica (Anos Finais)"
      ]
    },
    {
      "cell_type": "code",
      "metadata": {
        "id": "ry-Q5Ld0SKX-",
        "outputId": "d2b26c0c-0526-4261-e36d-3fd6510b7260",
        "colab": {
          "base_uri": "https://localhost:8080/",
          "height": 442
        }
      },
      "source": [
        "# Importação do DataFrame disponível no GitHub\n",
        "df_af = pd.read_csv ('https://raw.githubusercontent.com/mdaianes24/Trabalho-IDEB/main/anos_finais.csv', sep=';', encoding='ISO-8859-1')\n",
        "\n",
        "# Aqui serão visualizados os dados: Anos Finais -  Ensino Fundamental\n",
        "df_af"
      ],
      "execution_count": 182,
      "outputs": [
        {
          "output_type": "execute_result",
          "data": {
            "text/html": [
              "<div>\n",
              "<style scoped>\n",
              "    .dataframe tbody tr th:only-of-type {\n",
              "        vertical-align: middle;\n",
              "    }\n",
              "\n",
              "    .dataframe tbody tr th {\n",
              "        vertical-align: top;\n",
              "    }\n",
              "\n",
              "    .dataframe thead th {\n",
              "        text-align: right;\n",
              "    }\n",
              "</style>\n",
              "<table border=\"1\" class=\"dataframe\">\n",
              "  <thead>\n",
              "    <tr style=\"text-align: right;\">\n",
              "      <th></th>\n",
              "      <th>MUNICÍPIO</th>\n",
              "      <th>2009</th>\n",
              "      <th>2011</th>\n",
              "      <th>2013</th>\n",
              "      <th>2015</th>\n",
              "      <th>2017</th>\n",
              "      <th>2019</th>\n",
              "      <th>PROJ 2009</th>\n",
              "      <th>PROJ 2011</th>\n",
              "      <th>PROJ 2013</th>\n",
              "      <th>PROJ 2015</th>\n",
              "      <th>PROJ 2017</th>\n",
              "      <th>PROJ 2019</th>\n",
              "    </tr>\n",
              "  </thead>\n",
              "  <tbody>\n",
              "    <tr>\n",
              "      <th>0</th>\n",
              "      <td>Acari</td>\n",
              "      <td>4.1</td>\n",
              "      <td>4.2</td>\n",
              "      <td>4.0</td>\n",
              "      <td>4.5</td>\n",
              "      <td>4.8</td>\n",
              "      <td>5.0</td>\n",
              "      <td>3.9</td>\n",
              "      <td>4.1</td>\n",
              "      <td>4.5</td>\n",
              "      <td>4.9</td>\n",
              "      <td>5.2</td>\n",
              "      <td>5.4</td>\n",
              "    </tr>\n",
              "    <tr>\n",
              "      <th>1</th>\n",
              "      <td>Açu</td>\n",
              "      <td>2.2</td>\n",
              "      <td>2.5</td>\n",
              "      <td>2.6</td>\n",
              "      <td>2.9</td>\n",
              "      <td>3.2</td>\n",
              "      <td>3.4</td>\n",
              "      <td>2.3</td>\n",
              "      <td>2.7</td>\n",
              "      <td>3.2</td>\n",
              "      <td>3.6</td>\n",
              "      <td>3.9</td>\n",
              "      <td>4.1</td>\n",
              "    </tr>\n",
              "    <tr>\n",
              "      <th>2</th>\n",
              "      <td>Afonso Bezerra</td>\n",
              "      <td>2.6</td>\n",
              "      <td>3.3</td>\n",
              "      <td>3.0</td>\n",
              "      <td>3.2</td>\n",
              "      <td>3.2</td>\n",
              "      <td>4.0</td>\n",
              "      <td>2.6</td>\n",
              "      <td>2.9</td>\n",
              "      <td>3.3</td>\n",
              "      <td>3.6</td>\n",
              "      <td>3.9</td>\n",
              "      <td>4.2</td>\n",
              "    </tr>\n",
              "    <tr>\n",
              "      <th>3</th>\n",
              "      <td>Água Nova</td>\n",
              "      <td>3.1</td>\n",
              "      <td>3.8</td>\n",
              "      <td>4.0</td>\n",
              "      <td>3.9</td>\n",
              "      <td>3.9</td>\n",
              "      <td>3.8</td>\n",
              "      <td>2.9</td>\n",
              "      <td>3.1</td>\n",
              "      <td>3.5</td>\n",
              "      <td>3.9</td>\n",
              "      <td>4.2</td>\n",
              "      <td>4.4</td>\n",
              "    </tr>\n",
              "    <tr>\n",
              "      <th>4</th>\n",
              "      <td>Alexandria</td>\n",
              "      <td>2.9</td>\n",
              "      <td>3.6</td>\n",
              "      <td>3.6</td>\n",
              "      <td>3.3</td>\n",
              "      <td>3.8</td>\n",
              "      <td>4.1</td>\n",
              "      <td>2.9</td>\n",
              "      <td>3.2</td>\n",
              "      <td>3.6</td>\n",
              "      <td>4.0</td>\n",
              "      <td>4.2</td>\n",
              "      <td>4.5</td>\n",
              "    </tr>\n",
              "    <tr>\n",
              "      <th>...</th>\n",
              "      <td>...</td>\n",
              "      <td>...</td>\n",
              "      <td>...</td>\n",
              "      <td>...</td>\n",
              "      <td>...</td>\n",
              "      <td>...</td>\n",
              "      <td>...</td>\n",
              "      <td>...</td>\n",
              "      <td>...</td>\n",
              "      <td>...</td>\n",
              "      <td>...</td>\n",
              "      <td>...</td>\n",
              "      <td>...</td>\n",
              "    </tr>\n",
              "    <tr>\n",
              "      <th>162</th>\n",
              "      <td>Várzea</td>\n",
              "      <td>3.0</td>\n",
              "      <td>2.5</td>\n",
              "      <td>2.4</td>\n",
              "      <td>3.4</td>\n",
              "      <td>2.9</td>\n",
              "      <td>3.4</td>\n",
              "      <td>2.6</td>\n",
              "      <td>2.9</td>\n",
              "      <td>3.3</td>\n",
              "      <td>3.7</td>\n",
              "      <td>3.9</td>\n",
              "      <td>4.2</td>\n",
              "    </tr>\n",
              "    <tr>\n",
              "      <th>163</th>\n",
              "      <td>Venha-Ver</td>\n",
              "      <td>3.0</td>\n",
              "      <td>3.0</td>\n",
              "      <td>NaN</td>\n",
              "      <td>3.8</td>\n",
              "      <td>2.7</td>\n",
              "      <td>3.6</td>\n",
              "      <td>3.2</td>\n",
              "      <td>3.5</td>\n",
              "      <td>3.9</td>\n",
              "      <td>4.3</td>\n",
              "      <td>4.5</td>\n",
              "      <td>4.8</td>\n",
              "    </tr>\n",
              "    <tr>\n",
              "      <th>164</th>\n",
              "      <td>Vera Cruz</td>\n",
              "      <td>2.8</td>\n",
              "      <td>3.4</td>\n",
              "      <td>3.3</td>\n",
              "      <td>3.6</td>\n",
              "      <td>3.1</td>\n",
              "      <td>3.1</td>\n",
              "      <td>2.7</td>\n",
              "      <td>3.0</td>\n",
              "      <td>3.4</td>\n",
              "      <td>3.7</td>\n",
              "      <td>4.0</td>\n",
              "      <td>4.3</td>\n",
              "    </tr>\n",
              "    <tr>\n",
              "      <th>165</th>\n",
              "      <td>Viçosa</td>\n",
              "      <td>NaN</td>\n",
              "      <td>3.1</td>\n",
              "      <td>3.3</td>\n",
              "      <td>4.0</td>\n",
              "      <td>4.0</td>\n",
              "      <td>4.9</td>\n",
              "      <td>2.7</td>\n",
              "      <td>3.0</td>\n",
              "      <td>3.4</td>\n",
              "      <td>3.8</td>\n",
              "      <td>4.1</td>\n",
              "      <td>4.4</td>\n",
              "    </tr>\n",
              "    <tr>\n",
              "      <th>166</th>\n",
              "      <td>Vila Flor</td>\n",
              "      <td>1.9</td>\n",
              "      <td>2.3</td>\n",
              "      <td>2.3</td>\n",
              "      <td>2.3</td>\n",
              "      <td>2.3</td>\n",
              "      <td>NaN</td>\n",
              "      <td>2.4</td>\n",
              "      <td>2.7</td>\n",
              "      <td>3.1</td>\n",
              "      <td>3.6</td>\n",
              "      <td>3.8</td>\n",
              "      <td>4.1</td>\n",
              "    </tr>\n",
              "  </tbody>\n",
              "</table>\n",
              "<p>167 rows × 13 columns</p>\n",
              "</div>"
            ],
            "text/plain": [
              "          MUNICÍPIO  2009  2011  ...  PROJ 2015  PROJ 2017  PROJ 2019\n",
              "0             Acari   4.1   4.2  ...        4.9        5.2        5.4\n",
              "1               Açu   2.2   2.5  ...        3.6        3.9        4.1\n",
              "2    Afonso Bezerra   2.6   3.3  ...        3.6        3.9        4.2\n",
              "3         Água Nova   3.1   3.8  ...        3.9        4.2        4.4\n",
              "4        Alexandria   2.9   3.6  ...        4.0        4.2        4.5\n",
              "..              ...   ...   ...  ...        ...        ...        ...\n",
              "162          Várzea   3.0   2.5  ...        3.7        3.9        4.2\n",
              "163       Venha-Ver   3.0   3.0  ...        4.3        4.5        4.8\n",
              "164       Vera Cruz   2.8   3.4  ...        3.7        4.0        4.3\n",
              "165          Viçosa   NaN   3.1  ...        3.8        4.1        4.4\n",
              "166       Vila Flor   1.9   2.3  ...        3.6        3.8        4.1\n",
              "\n",
              "[167 rows x 13 columns]"
            ]
          },
          "metadata": {
            "tags": []
          },
          "execution_count": 182
        }
      ]
    },
    {
      "cell_type": "markdown",
      "metadata": {
        "id": "naiuVlXz4kzD"
      },
      "source": [
        "Ensino Médio"
      ]
    },
    {
      "cell_type": "code",
      "metadata": {
        "id": "MWYeSeq9VALU",
        "outputId": "8b5f23d8-2814-492d-9636-75e3c497c852",
        "colab": {
          "base_uri": "https://localhost:8080/",
          "height": 407
        }
      },
      "source": [
        "# Importação do DataFrame disponível no GitHub\n",
        "# Obs.: Os dados disponíveis do Ensino médio eram a partir de 2017, e como não havia sua projeção, não entrou no data set.\n",
        "df_em = pd.read_csv ('https://raw.githubusercontent.com/mdaianes24/Trabalho-IDEB/main/ensino_medio.csv', sep=';', encoding='ISO-8859-1')\n",
        "\n",
        "# Aqui serão visualizados os dados: Ensino Médio\n",
        "df_em\n"
      ],
      "execution_count": 183,
      "outputs": [
        {
          "output_type": "execute_result",
          "data": {
            "text/html": [
              "<div>\n",
              "<style scoped>\n",
              "    .dataframe tbody tr th:only-of-type {\n",
              "        vertical-align: middle;\n",
              "    }\n",
              "\n",
              "    .dataframe tbody tr th {\n",
              "        vertical-align: top;\n",
              "    }\n",
              "\n",
              "    .dataframe thead th {\n",
              "        text-align: right;\n",
              "    }\n",
              "</style>\n",
              "<table border=\"1\" class=\"dataframe\">\n",
              "  <thead>\n",
              "    <tr style=\"text-align: right;\">\n",
              "      <th></th>\n",
              "      <th>MUNICÍPIO</th>\n",
              "      <th>2019</th>\n",
              "      <th>PROJ 2019</th>\n",
              "    </tr>\n",
              "  </thead>\n",
              "  <tbody>\n",
              "    <tr>\n",
              "      <th>0</th>\n",
              "      <td>Acari</td>\n",
              "      <td>3.3</td>\n",
              "      <td>3.8</td>\n",
              "    </tr>\n",
              "    <tr>\n",
              "      <th>1</th>\n",
              "      <td>Açu</td>\n",
              "      <td>2.4</td>\n",
              "      <td>NaN</td>\n",
              "    </tr>\n",
              "    <tr>\n",
              "      <th>2</th>\n",
              "      <td>Afonso Bezerra</td>\n",
              "      <td>3.0</td>\n",
              "      <td>2.4</td>\n",
              "    </tr>\n",
              "    <tr>\n",
              "      <th>3</th>\n",
              "      <td>Água Nova</td>\n",
              "      <td>3.7</td>\n",
              "      <td>3.4</td>\n",
              "    </tr>\n",
              "    <tr>\n",
              "      <th>4</th>\n",
              "      <td>Alexandria</td>\n",
              "      <td>NaN</td>\n",
              "      <td>3.3</td>\n",
              "    </tr>\n",
              "    <tr>\n",
              "      <th>...</th>\n",
              "      <td>...</td>\n",
              "      <td>...</td>\n",
              "      <td>...</td>\n",
              "    </tr>\n",
              "    <tr>\n",
              "      <th>161</th>\n",
              "      <td>Várzea</td>\n",
              "      <td>2.9</td>\n",
              "      <td>3.4</td>\n",
              "    </tr>\n",
              "    <tr>\n",
              "      <th>162</th>\n",
              "      <td>Venha-Ver</td>\n",
              "      <td>3.1</td>\n",
              "      <td>3.1</td>\n",
              "    </tr>\n",
              "    <tr>\n",
              "      <th>163</th>\n",
              "      <td>Vera Cruz</td>\n",
              "      <td>NaN</td>\n",
              "      <td>2.5</td>\n",
              "    </tr>\n",
              "    <tr>\n",
              "      <th>164</th>\n",
              "      <td>Viçosa</td>\n",
              "      <td>3.3</td>\n",
              "      <td>3.7</td>\n",
              "    </tr>\n",
              "    <tr>\n",
              "      <th>165</th>\n",
              "      <td>Vila Flor</td>\n",
              "      <td>NaN</td>\n",
              "      <td>3.1</td>\n",
              "    </tr>\n",
              "  </tbody>\n",
              "</table>\n",
              "<p>166 rows × 3 columns</p>\n",
              "</div>"
            ],
            "text/plain": [
              "          MUNICÍPIO  2019  PROJ 2019\n",
              "0             Acari   3.3        3.8\n",
              "1               Açu   2.4        NaN\n",
              "2    Afonso Bezerra   3.0        2.4\n",
              "3         Água Nova   3.7        3.4\n",
              "4        Alexandria   NaN        3.3\n",
              "..              ...   ...        ...\n",
              "161          Várzea   2.9        3.4\n",
              "162       Venha-Ver   3.1        3.1\n",
              "163       Vera Cruz   NaN        2.5\n",
              "164          Viçosa   3.3        3.7\n",
              "165       Vila Flor   NaN        3.1\n",
              "\n",
              "[166 rows x 3 columns]"
            ]
          },
          "metadata": {
            "tags": []
          },
          "execution_count": 183
        }
      ]
    },
    {
      "cell_type": "markdown",
      "metadata": {
        "id": "Hq3i8lmHU0wO"
      },
      "source": [
        "O ensino médio, os dados disponíveis encontrados foram apenas dos anos de 2017 e 2019, e como não havia a projeção para o primeiro ano, o objeto de estudo será a  comparação da projeção com o respectivo dado consolidado do ano, o primeiro foi excluído do data set."
      ]
    },
    {
      "cell_type": "markdown",
      "metadata": {
        "id": "5rpQd6hRWDr5"
      },
      "source": [
        "#3 Limpeza"
      ]
    },
    {
      "cell_type": "markdown",
      "metadata": {
        "id": "vd1CspV_KIH_"
      },
      "source": [
        "Algumas escolas tem dados faltosos por alguns fatores, como por exemplo: Número de participantes na avaliação do SAEB insuficientes para que os resultados sejam divulgados.\n",
        "\n",
        "Para a visualização dos dados faltosos será utilizada a função Matrix da biblioteca MissingNo.\n",
        "\n",
        "Será feita a limpeza dos dados das cidades do RN que  tem o índice inferior a 5.0 no ano ano de 2019, para verificar os municípios que estão próximos a atingir a meta estabelecida pelo INEP para 2022."
      ]
    },
    {
      "cell_type": "code",
      "metadata": {
        "id": "hLGOIHeRF4zC",
        "outputId": "22a6660f-1f75-4333-8d85-d370a1300c4e",
        "colab": {
          "base_uri": "https://localhost:8080/",
          "height": 255
        }
      },
      "source": [
        "# Instalação da Biblioteca MissingNo, para visualizar os dados faltosos.\n",
        "!pip install missingno"
      ],
      "execution_count": 184,
      "outputs": [
        {
          "output_type": "stream",
          "text": [
            "Requirement already satisfied: missingno in /usr/local/lib/python3.6/dist-packages (0.4.2)\n",
            "Requirement already satisfied: matplotlib in /usr/local/lib/python3.6/dist-packages (from missingno) (3.2.2)\n",
            "Requirement already satisfied: scipy in /usr/local/lib/python3.6/dist-packages (from missingno) (1.4.1)\n",
            "Requirement already satisfied: numpy in /usr/local/lib/python3.6/dist-packages (from missingno) (1.18.5)\n",
            "Requirement already satisfied: seaborn in /usr/local/lib/python3.6/dist-packages (from missingno) (0.11.0)\n",
            "Requirement already satisfied: cycler>=0.10 in /usr/local/lib/python3.6/dist-packages (from matplotlib->missingno) (0.10.0)\n",
            "Requirement already satisfied: pyparsing!=2.0.4,!=2.1.2,!=2.1.6,>=2.0.1 in /usr/local/lib/python3.6/dist-packages (from matplotlib->missingno) (2.4.7)\n",
            "Requirement already satisfied: python-dateutil>=2.1 in /usr/local/lib/python3.6/dist-packages (from matplotlib->missingno) (2.8.1)\n",
            "Requirement already satisfied: kiwisolver>=1.0.1 in /usr/local/lib/python3.6/dist-packages (from matplotlib->missingno) (1.2.0)\n",
            "Requirement already satisfied: pandas>=0.23 in /usr/local/lib/python3.6/dist-packages (from seaborn->missingno) (1.1.2)\n",
            "Requirement already satisfied: six in /usr/local/lib/python3.6/dist-packages (from cycler>=0.10->matplotlib->missingno) (1.15.0)\n",
            "Requirement already satisfied: pytz>=2017.2 in /usr/local/lib/python3.6/dist-packages (from pandas>=0.23->seaborn->missingno) (2018.9)\n"
          ],
          "name": "stdout"
        }
      ]
    },
    {
      "cell_type": "code",
      "metadata": {
        "id": "3OqeuoUePcZ8"
      },
      "source": [
        "# Importando o missingno e atribuindo um alias\n",
        "\n",
        "import missingno as msno"
      ],
      "execution_count": 14,
      "outputs": []
    },
    {
      "cell_type": "code",
      "metadata": {
        "id": "eaBcKPGSW6iA",
        "outputId": "82dd2257-08ad-434e-caf6-cea36cacdbd6",
        "colab": {
          "base_uri": "https://localhost:8080/",
          "height": 394
        }
      },
      "source": [
        "# Data Frame - Ensino Funadamental - Anos Iniciais\n",
        "\n",
        "msno.matrix (df_ai)"
      ],
      "execution_count": 15,
      "outputs": [
        {
          "output_type": "execute_result",
          "data": {
            "text/plain": [
              "<matplotlib.axes._subplots.AxesSubplot at 0x7f903d84a748>"
            ]
          },
          "metadata": {
            "tags": []
          },
          "execution_count": 15
        },
        {
          "output_type": "display_data",
          "data": {
            "image/png": "[encoded data removed]",
            "text/plain": [
              "<Figure size 1800x720 with 2 Axes>"
            ]
          },
          "metadata": {
            "tags": [],
            "needs_background": "light"
          }
        }
      ]
    },
    {
      "cell_type": "code",
      "metadata": {
        "id": "dS1eLGI3xPzd",
        "outputId": "b0a4dcfe-d1a5-4046-b7b5-7702d55ef249",
        "colab": {
          "base_uri": "https://localhost:8080/",
          "height": 394
        }
      },
      "source": [
        "# Data Frame - Ensino Funadamental - Anos Finais\n",
        "\n",
        "msno.matrix (df_af)"
      ],
      "execution_count": 16,
      "outputs": [
        {
          "output_type": "execute_result",
          "data": {
            "text/plain": [
              "<matplotlib.axes._subplots.AxesSubplot at 0x7f903aafc5c0>"
            ]
          },
          "metadata": {
            "tags": []
          },
          "execution_count": 16
        },
        {
          "output_type": "display_data",
          "data": {
            "image/png": "[encoded data removed]",
            "text/plain": [
              "<Figure size 1800x720 with 2 Axes>"
            ]
          },
          "metadata": {
            "tags": [],
            "needs_background": "light"
          }
        }
      ]
    },
    {
      "cell_type": "code",
      "metadata": {
        "id": "PsZ9t7gOyjdF",
        "outputId": "f5eab102-a736-4aea-f3cb-665c73920fc9",
        "colab": {
          "base_uri": "https://localhost:8080/",
          "height": 396
        }
      },
      "source": [
        "# Data Frame - Ensino Médio\n",
        "msno.matrix (df_em)"
      ],
      "execution_count": 17,
      "outputs": [
        {
          "output_type": "execute_result",
          "data": {
            "text/plain": [
              "<matplotlib.axes._subplots.AxesSubplot at 0x7f903aa3aef0>"
            ]
          },
          "metadata": {
            "tags": []
          },
          "execution_count": 17
        },
        {
          "output_type": "display_data",
          "data": {
            "image/png": "[encoded data removed]",
            "text/plain": [
              "<Figure size 1800x720 with 2 Axes>"
            ]
          },
          "metadata": {
            "tags": [],
            "needs_background": "light"
          }
        }
      ]
    },
    {
      "cell_type": "code",
      "metadata": {
        "id": "hgnLOt1Kt5LW",
        "outputId": "f075a734-1fcf-429d-9cf7-179e510af539",
        "colab": {
          "base_uri": "https://localhost:8080/",
          "height": 233
        }
      },
      "source": [
        "#Exclusão das linhas que estão com índices inferiores a 5.0 no ano de 2019, dados da Educação Básica - Anos Iniciais\n",
        "df_aix = df_ai.loc[df_ai['2019']>=5.0]\n",
        "\n",
        "#Exibe o novo data frame com apenas as 5 primeiras linhas.\n",
        "df_aix.head()"
      ],
      "execution_count": 188,
      "outputs": [
        {
          "output_type": "execute_result",
          "data": {
            "text/html": [
              "<div>\n",
              "<style scoped>\n",
              "    .dataframe tbody tr th:only-of-type {\n",
              "        vertical-align: middle;\n",
              "    }\n",
              "\n",
              "    .dataframe tbody tr th {\n",
              "        vertical-align: top;\n",
              "    }\n",
              "\n",
              "    .dataframe thead th {\n",
              "        text-align: right;\n",
              "    }\n",
              "</style>\n",
              "<table border=\"1\" class=\"dataframe\">\n",
              "  <thead>\n",
              "    <tr style=\"text-align: right;\">\n",
              "      <th></th>\n",
              "      <th>MUNICÍPIO</th>\n",
              "      <th>2009</th>\n",
              "      <th>2011</th>\n",
              "      <th>2013</th>\n",
              "      <th>2015</th>\n",
              "      <th>2017</th>\n",
              "      <th>2019</th>\n",
              "      <th>PROJ 2009</th>\n",
              "      <th>PROJ 2011</th>\n",
              "      <th>PROJ 2013</th>\n",
              "      <th>PROJ 2015</th>\n",
              "      <th>PROJ 2017</th>\n",
              "      <th>PROJ 2019</th>\n",
              "    </tr>\n",
              "  </thead>\n",
              "  <tbody>\n",
              "    <tr>\n",
              "      <th>0</th>\n",
              "      <td>Acari</td>\n",
              "      <td>4.8</td>\n",
              "      <td>4.9</td>\n",
              "      <td>5.6</td>\n",
              "      <td>5.9</td>\n",
              "      <td>6.6</td>\n",
              "      <td>6.8</td>\n",
              "      <td>4.8</td>\n",
              "      <td>5.2</td>\n",
              "      <td>5.4</td>\n",
              "      <td>5.7</td>\n",
              "      <td>6.0</td>\n",
              "      <td>6.2</td>\n",
              "    </tr>\n",
              "    <tr>\n",
              "      <th>5</th>\n",
              "      <td>Almino Afonso</td>\n",
              "      <td>3.2</td>\n",
              "      <td>3.2</td>\n",
              "      <td>NaN</td>\n",
              "      <td>4.8</td>\n",
              "      <td>4.9</td>\n",
              "      <td>5.0</td>\n",
              "      <td>3.0</td>\n",
              "      <td>3.4</td>\n",
              "      <td>3.7</td>\n",
              "      <td>3.9</td>\n",
              "      <td>4.2</td>\n",
              "      <td>4.6</td>\n",
              "    </tr>\n",
              "    <tr>\n",
              "      <th>6</th>\n",
              "      <td>Alto do Rodrigues</td>\n",
              "      <td>3.5</td>\n",
              "      <td>3.7</td>\n",
              "      <td>3.9</td>\n",
              "      <td>4.6</td>\n",
              "      <td>NaN</td>\n",
              "      <td>5.3</td>\n",
              "      <td>3.0</td>\n",
              "      <td>3.4</td>\n",
              "      <td>3.7</td>\n",
              "      <td>4.0</td>\n",
              "      <td>4.3</td>\n",
              "      <td>4.6</td>\n",
              "    </tr>\n",
              "    <tr>\n",
              "      <th>9</th>\n",
              "      <td>Apodi</td>\n",
              "      <td>4.1</td>\n",
              "      <td>4.5</td>\n",
              "      <td>4.6</td>\n",
              "      <td>4.8</td>\n",
              "      <td>4.9</td>\n",
              "      <td>5.2</td>\n",
              "      <td>3.4</td>\n",
              "      <td>3.9</td>\n",
              "      <td>4.1</td>\n",
              "      <td>4.4</td>\n",
              "      <td>4.7</td>\n",
              "      <td>5.0</td>\n",
              "    </tr>\n",
              "    <tr>\n",
              "      <th>14</th>\n",
              "      <td>Baraúna</td>\n",
              "      <td>4.1</td>\n",
              "      <td>3.8</td>\n",
              "      <td>4.1</td>\n",
              "      <td>4.3</td>\n",
              "      <td>4.4</td>\n",
              "      <td>5.0</td>\n",
              "      <td>2.7</td>\n",
              "      <td>3.1</td>\n",
              "      <td>3.4</td>\n",
              "      <td>3.7</td>\n",
              "      <td>4.0</td>\n",
              "      <td>4.3</td>\n",
              "    </tr>\n",
              "  </tbody>\n",
              "</table>\n",
              "</div>"
            ],
            "text/plain": [
              "            MUNICÍPIO  2009  2011  ...  PROJ 2015  PROJ 2017  PROJ 2019\n",
              "0               Acari   4.8   4.9  ...        5.7        6.0        6.2\n",
              "5       Almino Afonso   3.2   3.2  ...        3.9        4.2        4.6\n",
              "6   Alto do Rodrigues   3.5   3.7  ...        4.0        4.3        4.6\n",
              "9               Apodi   4.1   4.5  ...        4.4        4.7        5.0\n",
              "14            Baraúna   4.1   3.8  ...        3.7        4.0        4.3\n",
              "\n",
              "[5 rows x 13 columns]"
            ]
          },
          "metadata": {
            "tags": []
          },
          "execution_count": 188
        }
      ]
    },
    {
      "cell_type": "code",
      "metadata": {
        "id": "TJwi363g8Hrl",
        "outputId": "e74a6361-bca1-4e4d-de8b-4ab9c02bc241",
        "colab": {
          "base_uri": "https://localhost:8080/",
          "height": 203
        }
      },
      "source": [
        "#Exclusão das linhas que estão com índices inferiores a 5.0 no ano de 2019, dados da Educação Básica - Anos Finais\n",
        "df_afx = df_af.loc[df_af['2019']>=5.0]\n",
        "\n",
        "#Exibe o novo data frame com apenas as 5 primeiras linhas.\n",
        "df_afx.head()\n"
      ],
      "execution_count": 204,
      "outputs": [
        {
          "output_type": "execute_result",
          "data": {
            "text/html": [
              "<div>\n",
              "<style scoped>\n",
              "    .dataframe tbody tr th:only-of-type {\n",
              "        vertical-align: middle;\n",
              "    }\n",
              "\n",
              "    .dataframe tbody tr th {\n",
              "        vertical-align: top;\n",
              "    }\n",
              "\n",
              "    .dataframe thead th {\n",
              "        text-align: right;\n",
              "    }\n",
              "</style>\n",
              "<table border=\"1\" class=\"dataframe\">\n",
              "  <thead>\n",
              "    <tr style=\"text-align: right;\">\n",
              "      <th></th>\n",
              "      <th>MUNICÍPIO</th>\n",
              "      <th>2009</th>\n",
              "      <th>2011</th>\n",
              "      <th>2013</th>\n",
              "      <th>2015</th>\n",
              "      <th>2017</th>\n",
              "      <th>2019</th>\n",
              "      <th>PROJ 2009</th>\n",
              "      <th>PROJ 2011</th>\n",
              "      <th>PROJ 2013</th>\n",
              "      <th>PROJ 2015</th>\n",
              "      <th>PROJ 2017</th>\n",
              "      <th>PROJ 2019</th>\n",
              "    </tr>\n",
              "  </thead>\n",
              "  <tbody>\n",
              "    <tr>\n",
              "      <th>0</th>\n",
              "      <td>Acari</td>\n",
              "      <td>4.1</td>\n",
              "      <td>4.2</td>\n",
              "      <td>4.0</td>\n",
              "      <td>4.5</td>\n",
              "      <td>4.8</td>\n",
              "      <td>5.0</td>\n",
              "      <td>3.9</td>\n",
              "      <td>4.1</td>\n",
              "      <td>4.5</td>\n",
              "      <td>4.9</td>\n",
              "      <td>5.2</td>\n",
              "      <td>5.4</td>\n",
              "    </tr>\n",
              "    <tr>\n",
              "      <th>52</th>\n",
              "      <td>Ipueira</td>\n",
              "      <td>5.3</td>\n",
              "      <td>NaN</td>\n",
              "      <td>NaN</td>\n",
              "      <td>5.1</td>\n",
              "      <td>4.4</td>\n",
              "      <td>5.5</td>\n",
              "      <td>3.5</td>\n",
              "      <td>3.7</td>\n",
              "      <td>4.0</td>\n",
              "      <td>4.4</td>\n",
              "      <td>4.6</td>\n",
              "      <td>4.9</td>\n",
              "    </tr>\n",
              "    <tr>\n",
              "      <th>92</th>\n",
              "      <td>Ouro Branco</td>\n",
              "      <td>3.9</td>\n",
              "      <td>4.5</td>\n",
              "      <td>5.1</td>\n",
              "      <td>4.3</td>\n",
              "      <td>5.0</td>\n",
              "      <td>5.3</td>\n",
              "      <td>3.5</td>\n",
              "      <td>3.7</td>\n",
              "      <td>4.1</td>\n",
              "      <td>4.5</td>\n",
              "      <td>4.8</td>\n",
              "      <td>5.0</td>\n",
              "    </tr>\n",
              "    <tr>\n",
              "      <th>128</th>\n",
              "      <td>São Fernando</td>\n",
              "      <td>3.4</td>\n",
              "      <td>3.4</td>\n",
              "      <td>3.1</td>\n",
              "      <td>4.1</td>\n",
              "      <td>4.5</td>\n",
              "      <td>5.0</td>\n",
              "      <td>2.7</td>\n",
              "      <td>3.1</td>\n",
              "      <td>3.7</td>\n",
              "      <td>4.1</td>\n",
              "      <td>4.4</td>\n",
              "      <td>4.7</td>\n",
              "    </tr>\n",
              "  </tbody>\n",
              "</table>\n",
              "</div>"
            ],
            "text/plain": [
              "        MUNICÍPIO  2009  2011  2013  ...  PROJ 2013  PROJ 2015  PROJ 2017  PROJ 2019\n",
              "0           Acari   4.1   4.2   4.0  ...        4.5        4.9        5.2        5.4\n",
              "52        Ipueira   5.3   NaN   NaN  ...        4.0        4.4        4.6        4.9\n",
              "92    Ouro Branco   3.9   4.5   5.1  ...        4.1        4.5        4.8        5.0\n",
              "128  São Fernando   3.4   3.4   3.1  ...        3.7        4.1        4.4        4.7\n",
              "\n",
              "[4 rows x 13 columns]"
            ]
          },
          "metadata": {
            "tags": []
          },
          "execution_count": 204
        }
      ]
    },
    {
      "cell_type": "code",
      "metadata": {
        "id": "Rsby7sPt8baZ",
        "outputId": "d46d9de4-326f-4119-e7f6-10ca5e2b0b7a",
        "colab": {
          "base_uri": "https://localhost:8080/",
          "height": 78
        }
      },
      "source": [
        "#Exclusão das linhas que estão com índices inferiores a 5.0 no ano de 2019, dados do Ensino Médio\n",
        "df_emx = df_em.loc[df_em['2019']>=5.0]\n",
        "\n",
        "#Exibe o novo data frame com apenas as 5 primeiras linhas.\n",
        "df_emx.head()\n"
      ],
      "execution_count": 205,
      "outputs": [
        {
          "output_type": "execute_result",
          "data": {
            "text/html": [
              "<div>\n",
              "<style scoped>\n",
              "    .dataframe tbody tr th:only-of-type {\n",
              "        vertical-align: middle;\n",
              "    }\n",
              "\n",
              "    .dataframe tbody tr th {\n",
              "        vertical-align: top;\n",
              "    }\n",
              "\n",
              "    .dataframe thead th {\n",
              "        text-align: right;\n",
              "    }\n",
              "</style>\n",
              "<table border=\"1\" class=\"dataframe\">\n",
              "  <thead>\n",
              "    <tr style=\"text-align: right;\">\n",
              "      <th></th>\n",
              "      <th>MUNICÍPIO</th>\n",
              "      <th>2019</th>\n",
              "      <th>PROJ 2019</th>\n",
              "    </tr>\n",
              "  </thead>\n",
              "  <tbody>\n",
              "    <tr>\n",
              "      <th>101</th>\n",
              "      <td>Pau dos Ferros</td>\n",
              "      <td>5.0</td>\n",
              "      <td>4.5</td>\n",
              "    </tr>\n",
              "  </tbody>\n",
              "</table>\n",
              "</div>"
            ],
            "text/plain": [
              "          MUNICÍPIO  2019  PROJ 2019\n",
              "101  Pau dos Ferros   5.0        4.5"
            ]
          },
          "metadata": {
            "tags": []
          },
          "execution_count": 205
        }
      ]
    },
    {
      "cell_type": "markdown",
      "metadata": {
        "id": "EfxQkd-X1Xum"
      },
      "source": [
        "# 4 Análise de Dados"
      ]
    },
    {
      "cell_type": "code",
      "metadata": {
        "id": "i-RhxXynT9b9"
      },
      "source": [
        "#Importando a biblioteca MatplotLib e atribuindo o seu alias\n",
        "import matplotlib.pyplot as plt\n",
        "\n",
        "#importando a biblioteca numpy e atribuindo o seu alias\n",
        "import numpy as np"
      ],
      "execution_count": 192,
      "outputs": []
    },
    {
      "cell_type": "code",
      "metadata": {
        "id": "gm2H7B981VwA",
        "outputId": "3cba81b1-3202-49f5-97a5-3f09633989c9",
        "colab": {
          "base_uri": "https://localhost:8080/",
          "height": 1000
        }
      },
      "source": [
        "# Tamanho da fonte estabelecido\n",
        "plt.rcParams.update({'font.size': 18})\n",
        "\n",
        "# Selecionar as colunas a serem estudadas, conforme a problemática, atribuir o as configurações do gráfico e o formato.\n",
        "ai=df_aix[[\"2019\", \"PROJ 2019\"]].plot(figsize=(25,5), kind = 'bar', title = 'DATA FRAME - Anos Iniciais do Ensino Fundamental')\n",
        "\n",
        "# Forma como será exibido os rótulos do eixo \"X\" do gráfico\n",
        "ai.set_xticklabels(df_aix[\"MUNICÍPIO\"])\n",
        "\n"
      ],
      "execution_count": 210,
      "outputs": [
        {
          "output_type": "execute_result",
          "data": {
            "text/plain": [
              "[Text(0, 0, 'Acari'),\n",
              " Text(0, 0, 'Almino Afonso'),\n",
              " Text(0, 0, 'Alto do Rodrigues'),\n",
              " Text(0, 0, 'Apodi'),\n",
              " Text(0, 0, 'Baraúna'),\n",
              " Text(0, 0, 'Caicó'),\n",
              " Text(0, 0, 'Campo Redondo'),\n",
              " Text(0, 0, 'Caraúbas'),\n",
              " Text(0, 0, 'Carnaúba dos Dantas'),\n",
              " Text(0, 0, 'Cruzeta'),\n",
              " Text(0, 0, 'Currais Novos'),\n",
              " Text(0, 0, 'Doutor Severiano'),\n",
              " Text(0, 0, 'Parnamirim'),\n",
              " Text(0, 0, 'Equador'),\n",
              " Text(0, 0, 'Felipe Guerra'),\n",
              " Text(0, 0, 'Francisco Dantas'),\n",
              " Text(0, 0, 'Goianinha'),\n",
              " Text(0, 0, 'Jaçanã'),\n",
              " Text(0, 0, 'Janduís'),\n",
              " Text(0, 0, 'Januário Cicco'),\n",
              " Text(0, 0, 'Jardim do Seridó'),\n",
              " Text(0, 0, 'Lagoa Nova'),\n",
              " Text(0, 0, 'Lajes'),\n",
              " Text(0, 0, 'Lucrécia'),\n",
              " Text(0, 0, 'Martins'),\n",
              " Text(0, 0, 'Mossoró'),\n",
              " Text(0, 0, 'Paraná'),\n",
              " Text(0, 0, 'Parelhas'),\n",
              " Text(0, 0, 'Pau dos Ferros'),\n",
              " Text(0, 0, 'Portalegre'),\n",
              " Text(0, 0, 'Rafael Fernandes'),\n",
              " Text(0, 0, 'Rafael Godeiro'),\n",
              " Text(0, 0, 'Riacho da Cruz'),\n",
              " Text(0, 0, 'Tibau'),\n",
              " Text(0, 0, 'Ruy Barbosa'),\n",
              " Text(0, 0, 'Santana do Seridó'),\n",
              " Text(0, 0, 'São Fernando'),\n",
              " Text(0, 0, 'São Francisco do Oeste'),\n",
              " Text(0, 0, 'São João do Sabugi'),\n",
              " Text(0, 0, 'São José do Seridó'),\n",
              " Text(0, 0, 'São Miguel'),\n",
              " Text(0, 0, 'São Vicente'),\n",
              " Text(0, 0, 'Serrinha'),\n",
              " Text(0, 0, 'Severiano Melo'),\n",
              " Text(0, 0, 'Tenente Ananias'),\n",
              " Text(0, 0, 'Viçosa')]"
            ]
          },
          "metadata": {
            "tags": []
          },
          "execution_count": 210
        },
        {
          "output_type": "display_data",
          "data": {
            "image/png": "[encoded data removed]",
            "text/plain": [
              "<Figure size 1800x360 with 1 Axes>"
            ]
          },
          "metadata": {
            "tags": [],
            "needs_background": "light"
          }
        }
      ]
    },
    {
      "cell_type": "code",
      "metadata": {
        "id": "RY9gl1koPWHM",
        "outputId": "a13fa219-8a22-4415-f94b-888a18f87b27",
        "colab": {
          "base_uri": "https://localhost:8080/",
          "height": 378
        }
      },
      "source": [
        "# Tamanho da fonte estabelecido\n",
        "plt.rcParams.update({'font.size': 18})\n",
        "\n",
        "# Selecionar as colunas a serem estudadas, conforme a problemática, atribuir o as configurações do gráfico e o formato.\n",
        "af=df_afx[[\"2019\", \"PROJ 2019\"]].plot(figsize=(30,8), kind = 'bar', title = 'DATA FRAME - Anos Finais do Ensino Fundamental')\n",
        "\n",
        "# Forma como será exibido os rótulos do eixo \"X\" do gráfico\n",
        "af.set_xticklabels(df_afx[\"MUNICÍPIO\"])\n",
        "\n"
      ],
      "execution_count": 209,
      "outputs": [
        {
          "output_type": "execute_result",
          "data": {
            "text/plain": [
              "[Text(0, 0, 'Acari'),\n",
              " Text(0, 0, 'Ipueira'),\n",
              " Text(0, 0, 'Ouro Branco'),\n",
              " Text(0, 0, 'São Fernando')]"
            ]
          },
          "metadata": {
            "tags": []
          },
          "execution_count": 209
        },
        {
          "output_type": "display_data",
          "data": {
            "image/png": "[encoded data removed]",
            "text/plain": [
              "<Figure size 2160x576 with 1 Axes>"
            ]
          },
          "metadata": {
            "tags": [],
            "needs_background": "light"
          }
        }
      ]
    },
    {
      "cell_type": "code",
      "metadata": {
        "id": "UfD2OgRzPV_i",
        "outputId": "bfd78b70-6002-4c64-8a54-1428d88c180a",
        "colab": {
          "base_uri": "https://localhost:8080/",
          "height": 416
        }
      },
      "source": [
        "# Tamanho da fonte estabelecido\n",
        "plt.rcParams.update({'font.size': 10})\n",
        "\n",
        "# Selecionar as colunas a serem estudadas, conforme a problemática, atribuir o as configurações do gráfico e o formato.\n",
        "em=df_emx[[\"2019\", \"PROJ 2019\"]].plot(figsize=(5,5), kind = 'bar', title = 'DATA FRAME - Ensino Médio')\n",
        "\n",
        "# Forma como será exibido os rótulos do eixo \"X\" do gráfico\n",
        "em.set_xticklabels(df_emx[\"MUNICÍPIO\"])\n"
      ],
      "execution_count": 211,
      "outputs": [
        {
          "output_type": "execute_result",
          "data": {
            "text/plain": [
              "[Text(0, 0, 'Pau dos Ferros')]"
            ]
          },
          "metadata": {
            "tags": []
          },
          "execution_count": 211
        },
        {
          "output_type": "display_data",
          "data": {
            "image/png": "[encoded data removed]",
            "text/plain": [
              "<Figure size 360x360 with 1 Axes>"
            ]
          },
          "metadata": {
            "tags": [],
            "needs_background": "light"
          }
        }
      ]
    },
    {
      "cell_type": "markdown",
      "metadata": {
        "id": "yIadLwahQBND"
      },
      "source": [
        "# 5 Interpretação"
      ]
    },
    {
      "cell_type": "markdown",
      "metadata": {
        "id": "bIj9AeJfQITb"
      },
      "source": [
        "Considerando que o Rio Grande do Norte possui 167 municípios, observa-se bem que após a limpeza dos dados, muitos municípios, em suas escolas públicas tem um longo caminho a alcançar o índice de educação de qualidade 6.0, pois muitos estão com índices inferiores a 5.0, no ano de 2019, situação que se verifica em todos os níveis de Ensino. A situação se agrava nos Anos Finais do Ensino Fundamental e no Ensino Médio.\n",
        "\n",
        "Quanto ao alcance da projeção:\n",
        "\n",
        "*   Ensino Fundamental - Anos Iniciais: apenas os municípios de Parnamirim, Equador e São Vicente tiveram índices inferiores a suas projeções.\n",
        "\n",
        "*   Ensino Fundamental - Anos Finais: somente 4 cidades conseguiram atingir o índice 5.0 ou superior, no ano de 2019, foram elas: Acari, Ipueira, Ouro Branco e São Fernando. Acari foi a cidade dentre essas que não conseguiu alcançar o índice projetado.\n",
        "\n",
        "*   Ensino Médio: Pau dos Ferros foi a única cidade a atingir o índice estabelecido nas escolas públicas, e conseguiu ultrapassar a projeção.\n"
      ]
    }
  ]
}